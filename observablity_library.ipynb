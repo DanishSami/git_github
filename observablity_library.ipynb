{
 "cells": [
  {
   "cell_type": "code",
   "execution_count": 1,
   "metadata": {},
   "outputs": [],
   "source": [
    "class observablity:\n",
    "    import numpy as np\n",
    "    def __init__ (self,A,C):\n",
    "        self.A = np.array(A)\n",
    "        self.C = np.array(C)\n",
    "        self.n = np.size(self.A,1)\n",
    "        \n",
    "    def method_1(self):\n",
    "        Qo = []\n",
    "        a =np.transpose(self.C)\n",
    "        b =np.transpose(self.A)          # the system is observable if the rank  = n\n",
    "        Qo.append(a)\n",
    "        for i in range(1,self.n):\n",
    "            c= np.power(b,i)\n",
    "            q= np.dot(c,a)\n",
    "            Qo.append(q)\n",
    "        D = np.linalg.det(Qo)  \n",
    "        if (D != 0):\n",
    "            print ('control system is observable')\n",
    "        else:\n",
    "             print ('control system is not observable')\n",
    "            \n",
    "        return Qo\n",
    "\n",
    "    def method_2(self,Ct,t,t1):\n",
    "        from scipy.integrate import odeint\n",
    "        \n",
    "        g =np.transpose(Ct)\n",
    "        f =np.transpose(self.A)\n",
    "        \n",
    "        # W = np.exp(self.A*t)*Ct*g*np.exp(f*t)\n",
    "        W_1 =Ct*g*(np.exp(self.A*t)*(1/f)*np.exp(f*t)+np.exp(f*t)*(1/self.A)*np.exp(self.A*t))\n",
    "        W_2=Ct*g*(np.exp(self.A*t1)*(1/f)*np.exp(f*t1)+np.exp(f*t1)*(1/self.A)*np.exp(self.A*t1))\n",
    "        W = W_1-W_2   \n",
    "          \n",
    "        return W\n",
    "     "
   ]
  },
  {
   "cell_type": "code",
   "execution_count": 3,
   "metadata": {},
   "outputs": [
    {
     "name": "stdout",
     "output_type": "stream",
     "text": [
      "control system is observable\n"
     ]
    }
   ],
   "source": [
    "import numpy as np \n",
    "A = ([[-2, -2], [1, 0]])\n",
    "C = [1,1]\n",
    "r =observablity(A,C) # creating object r\n",
    "x=r.method_1()\n"
   ]
  },
  {
   "cell_type": "code",
   "execution_count": 4,
   "metadata": {},
   "outputs": [
    {
     "name": "stdout",
     "output_type": "stream",
     "text": [
      "[array([1, 1]), array([-1, -2])]\n"
     ]
    }
   ],
   "source": [
    "print(x)\n"
   ]
  },
  {
   "cell_type": "code",
   "execution_count": 5,
   "metadata": {},
   "outputs": [
    {
     "name": "stdout",
     "output_type": "stream",
     "text": [
      "[[-0.98168436  0.31606028]\n",
      " [ 0.31606028         nan]]\n"
     ]
    },
    {
     "name": "stderr",
     "output_type": "stream",
     "text": [
      "C:\\Users\\danis\\Anaconda3\\lib\\site-packages\\ipykernel_launcher.py:32: RuntimeWarning: divide by zero encountered in true_divide\n",
      "C:\\Users\\danis\\Anaconda3\\lib\\site-packages\\ipykernel_launcher.py:33: RuntimeWarning: divide by zero encountered in true_divide\n",
      "C:\\Users\\danis\\Anaconda3\\lib\\site-packages\\ipykernel_launcher.py:34: RuntimeWarning: invalid value encountered in subtract\n"
     ]
    }
   ],
   "source": [
    "Ct =[[1],[1]]\n",
    "t = 0\n",
    "t1 = 1\n",
    "r1 = observablity(A,C)\n",
    "y = r1.method_2(Ct,t,t1)\n",
    "print (y)"
   ]
  },
  {
   "cell_type": "code",
   "execution_count": null,
   "metadata": {},
   "outputs": [],
   "source": []
  }
 ],
 "metadata": {
  "kernelspec": {
   "display_name": "Python 3",
   "language": "python",
   "name": "python3"
  },
  "language_info": {
   "codemirror_mode": {
    "name": "ipython",
    "version": 3
   },
   "file_extension": ".py",
   "mimetype": "text/x-python",
   "name": "python",
   "nbconvert_exporter": "python",
   "pygments_lexer": "ipython3",
   "version": "3.6.4"
  }
 },
 "nbformat": 4,
 "nbformat_minor": 2
}
